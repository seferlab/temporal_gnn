{
 "cells": [
  {
   "cell_type": "code",
   "execution_count": null,
   "metadata": {},
   "outputs": [],
   "source": [
    "%cd .."
   ]
  },
  {
   "cell_type": "code",
   "execution_count": null,
   "metadata": {},
   "outputs": [],
   "source": [
    "import config\n",
    "import main\n",
    "from helpers import *\n",
    "from models import *"
   ]
  },
  {
   "cell_type": "code",
   "execution_count": null,
   "metadata": {},
   "outputs": [],
   "source": [
    "from tqdm import tqdm\n",
    "from functools import partialmethod\n",
    "\n",
    "tqdm.__init__ = partialmethod(tqdm.__init__, disable=True)"
   ]
  },
  {
   "cell_type": "code",
   "execution_count": null,
   "metadata": {
    "pycharm": {
     "name": "#%%\n"
    }
   },
   "outputs": [],
   "source": [
    "actual_prices = Reader.get_actual_prices(config.actual.path, config.num_weeks)\n",
    "num_assets = actual_prices.data.shape[1]\n",
    "predicted_returns = [\n",
    "    Data(Reader.get_predicted_returns(path.path, config.num_weeks, num_assets), path.label)\n",
    "    for path in config.raw_prediction_paths\n",
    "]\n",
    "predicted_prices = ReportTransformer.get_predicted_prices(actual_prices, predicted_returns)\n",
    "\n",
    "long_short_combinations = [(long, short) for long in range(num_assets) for short in range(num_assets)\n",
    "                           if not (long == 0 and short == 0)]"
   ]
  },
  {
   "cell_type": "code",
   "execution_count": null,
   "metadata": {},
   "outputs": [],
   "source": [
    "Reporter.plot_correlation_matrix_of_actual_prices(actual_prices)"
   ]
  },
  {
   "cell_type": "code",
   "execution_count": null,
   "metadata": {},
   "outputs": [],
   "source": [
    "Reporter.plot_standardized_prices(actual_prices, predicted_prices)"
   ]
  },
  {
   "cell_type": "code",
   "execution_count": null,
   "metadata": {},
   "outputs": [],
   "source": [
    "random_results = PortfolioGroup.calculate_random_portfolio_for_predictions(config.random_trials, actual_prices, (5, 0))\n",
    "all_results = PortfolioGroup.calculate_all_portfolio_for_predictions(actual_prices)\n",
    "all_model_results = PortfolioGroup.calculate_best_portfolio_for_all_predictions(actual_prices, predicted_returns,\n",
    "                                                                                long_short_combinations)\n",
    "\n",
    "best_model_results = ReportTransformer.get_best_models(all_model_results)\n",
    "best_model_names = [m.label for m in best_model_results]"
   ]
  },
  {
   "cell_type": "code",
   "execution_count": null,
   "metadata": {},
   "outputs": [],
   "source": [
    "best_model_results = ReportTransformer.remove_model_prefixes(best_model_results)\n",
    "portfolio_values_df = ReportTransformer.create_portfolio_values_df(random_results, all_results, best_model_results)\n",
    "returns_df = ReportTransformer.get_returns(portfolio_values_df)"
   ]
  },
  {
   "cell_type": "code",
   "execution_count": null,
   "metadata": {},
   "outputs": [],
   "source": [
    "Reporter.plot_portfolio_values_of_random_all_and_deep_learning_models(portfolio_values_df)"
   ]
  },
  {
   "cell_type": "code",
   "execution_count": null,
   "metadata": {},
   "outputs": [],
   "source": [
    "Reporter.print_resulting_portfolio_values_for_each_model(portfolio_values_df)"
   ]
  },
  {
   "cell_type": "code",
   "execution_count": null,
   "metadata": {},
   "outputs": [],
   "source": [
    "Reporter.print_portfolio_metrics(portfolio_values_df)"
   ]
  },
  {
   "cell_type": "code",
   "execution_count": null,
   "metadata": {},
   "outputs": [],
   "source": [
    "Reporter.print_portfolio_asset_selection_accuracies(best_model_results + [random_results])"
   ]
  },
  {
   "cell_type": "code",
   "execution_count": null,
   "metadata": {},
   "outputs": [],
   "source": [
    "Reporter.print_statistical_significance_metrics(returns_df)"
   ]
  },
  {
   "cell_type": "code",
   "execution_count": null,
   "metadata": {},
   "outputs": [],
   "source": [
    "Reporter.plot_returns(returns_df)"
   ]
  },
  {
   "cell_type": "code",
   "execution_count": null,
   "metadata": {},
   "outputs": [],
   "source": [
    "Reporter.plot_correlation_matrix_of_returns(returns_df)"
   ]
  },
  {
   "cell_type": "code",
   "execution_count": null,
   "metadata": {},
   "outputs": [],
   "source": [
    "Reporter.print_test_mapes()"
   ]
  },
  {
   "cell_type": "code",
   "execution_count": null,
   "metadata": {},
   "outputs": [],
   "source": [
    "Reporter.print_stats_between_all_predicted_and_actual_prices(actual_prices, predicted_prices)\n",
    "Reporter.print_stats_between_all_predicted_and_actual_returns(actual_prices, predicted_returns)"
   ]
  },
  {
   "cell_type": "code",
   "execution_count": null,
   "metadata": {},
   "outputs": [],
   "source": [
    "Reporter.print_mapes_between_actual_and_predicted_model_portfolios(best_model_results)"
   ]
  },
  {
   "cell_type": "code",
   "execution_count": null,
   "metadata": {},
   "outputs": [],
   "source": [
    "Reporter.print_direction_based_metrics(actual_prices, predicted_returns, best_model_names)"
   ]
  }
 ],
 "metadata": {
  "kernelspec": {
   "display_name": "Python 3 (ipykernel)",
   "language": "python",
   "name": "python3"
  },
  "language_info": {
   "codemirror_mode": {
    "name": "ipython",
    "version": 3
   },
   "file_extension": ".py",
   "mimetype": "text/x-python",
   "name": "python",
   "nbconvert_exporter": "python",
   "pygments_lexer": "ipython3",
   "version": "3.11.4"
  }
 },
 "nbformat": 4,
 "nbformat_minor": 1
}
